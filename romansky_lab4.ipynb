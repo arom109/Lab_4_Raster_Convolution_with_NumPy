{
 "cells": [
  {
   "cell_type": "code",
   "execution_count": 103,
   "metadata": {},
   "outputs": [],
   "source": [
    "#prep/import packages\n",
    "\n",
    "import numpy as np\n",
    "import glob\n",
    "import rasterio\n",
    "from rasterio.plot import show, show_hist\n",
    "import geopandas as gpd\n",
    "import pandas as pd\n",
    "from scipy.spatial import cKDTree"
   ]
  },
  {
   "cell_type": "code",
   "execution_count": 104,
   "metadata": {},
   "outputs": [
    {
     "data": {
      "text/plain": [
       "['C:\\\\Users\\\\arom\\\\Documents\\\\School\\\\Grad School\\\\Fall 2020\\\\Automation\\\\week6\\\\Lab4\\\\data\\\\data\\\\protected_areas.tif',\n",
       " 'C:\\\\Users\\\\arom\\\\Documents\\\\School\\\\Grad School\\\\Fall 2020\\\\Automation\\\\week6\\\\Lab4\\\\data\\\\data\\\\reclass_slope.tif',\n",
       " 'C:\\\\Users\\\\arom\\\\Documents\\\\School\\\\Grad School\\\\Fall 2020\\\\Automation\\\\week6\\\\Lab4\\\\data\\\\data\\\\slope.tif',\n",
       " 'C:\\\\Users\\\\arom\\\\Documents\\\\School\\\\Grad School\\\\Fall 2020\\\\Automation\\\\week6\\\\Lab4\\\\data\\\\data\\\\suitables_sites.tif',\n",
       " 'C:\\\\Users\\\\arom\\\\Documents\\\\School\\\\Grad School\\\\Fall 2020\\\\Automation\\\\week6\\\\Lab4\\\\data\\\\data\\\\urban_areas.tif',\n",
       " 'C:\\\\Users\\\\arom\\\\Documents\\\\School\\\\Grad School\\\\Fall 2020\\\\Automation\\\\week6\\\\Lab4\\\\data\\\\data\\\\water_bodies.tif',\n",
       " 'C:\\\\Users\\\\arom\\\\Documents\\\\School\\\\Grad School\\\\Fall 2020\\\\Automation\\\\week6\\\\Lab4\\\\data\\\\data\\\\ws80m.tif']"
      ]
     },
     "execution_count": 104,
     "metadata": {},
     "output_type": "execute_result"
    }
   ],
   "source": [
    "#read list of rasters, show list\n",
    "files = glob.glob(r'C:\\Users\\arom\\Documents\\School\\Grad School\\Fall 2020\\Automation\\week6\\Lab4\\data\\data\\*.tif')\n",
    "files"
   ]
  },
  {
   "cell_type": "code",
   "execution_count": 105,
   "metadata": {},
   "outputs": [],
   "source": [
    "#create empty array\n",
    "empty_array = []\n",
    "\n",
    "#open each raster, fix infinites, create moving window and take average\n",
    "for i in files:\n",
    "    with rasterio.open(i) as data:\n",
    "        array = data.read(1)\n",
    "        array = np.where(array < 0, 0, array)\n",
    "        mean_a = np.zeros_like(array)\n",
    "        \n",
    "        for row in range(5, array.shape[0] - 5):\n",
    "            for col in range(4, array.shape[1] - 4):\n",
    "                window = array[row-5:row+5 +1, col - 4:col+4 +1]\n",
    "                mean_a[row, col] = window.mean()\n",
    "        empty_array.append(mean_a)\n",
    "\n",
    "#apply suitable site conditions to each of the arrays to create booleans\n",
    "#protected\n",
    "empty_array[0] = np.where(empty_array[0] < 0.05, 1, 0)        \n",
    "#slope\n",
    "empty_array[2] = np.where(empty_array[2] < 15, 1, 0)\n",
    "#urban \n",
    "empty_array[4] = np.where(empty_array[4] !=0, 0, 1)\n",
    "#water\n",
    "empty_array[5] = np.where(empty_array[5] < 0.02, 1, 0)\n",
    "#wind\n",
    "empty_array[6] = np.where(empty_array[6] < 8.5, 0, 1)\n",
    "\n",
    "#sum arrays\n",
    "array_sum = empty_array[0] + empty_array[2] + empty_array[4] + empty_array[5] + empty_array[6]\n"
   ]
  },
  {
   "cell_type": "code",
   "execution_count": 106,
   "metadata": {},
   "outputs": [
    {
     "name": "stdout",
     "output_type": "stream",
     "text": [
      "The total number of suitable sites is 753\n"
     ]
    }
   ],
   "source": [
    "#create a final boolean array from the sum of the arrays\n",
    "final_array = np.where(array_sum == 5, 1, 0)\n",
    "print('The total number of suitable sites is', final_array.sum())"
   ]
  },
  {
   "cell_type": "code",
   "execution_count": 107,
   "metadata": {},
   "outputs": [],
   "source": [
    "#change dtype of the final boolean\n",
    "final_array = final_array.astype('float64')"
   ]
  },
  {
   "cell_type": "code",
   "execution_count": 108,
   "metadata": {},
   "outputs": [],
   "source": [
    "#create tif from final boolean\n",
    "with rasterio.open(r'C:\\Users\\arom\\Documents\\School\\Grad School\\Fall 2020\\Automation\\week6\\Lab4\\data\\data\\slope.tif') as dataset:\n",
    "        \n",
    "    with rasterio.open(f'suitable_sites.tif', 'w',\n",
    "                      driver='GTiff',\n",
    "                      height=final_array.shape[0],\n",
    "                      width=final_array.shape[1],\n",
    "                      count=1,\n",
    "                      dtype=final_array.dtype,\n",
    "                      crs=dataset.crs,\n",
    "                      transform = dataset.transform, \n",
    "                      nodata=-9999\n",
    "                      ) as tif_dataset:\n",
    "        tif_dataset.write(final_array,1)"
   ]
  },
  {
   "cell_type": "code",
   "execution_count": 109,
   "metadata": {},
   "outputs": [
    {
     "data": {
      "image/png": "[encoded data removed]",
      "text/plain": [
       "<Figure size 432x288 with 1 Axes>"
      ]
     },
     "metadata": {
      "needs_background": "light"
     },
     "output_type": "display_data"
    },
    {
     "data": {
      "text/plain": [
       "<AxesSubplot:>"
      ]
     },
     "execution_count": 109,
     "metadata": {},
     "output_type": "execute_result"
    }
   ],
   "source": [
    "#since the tif wasn't showing in Arc, open with rasterio, read as array, then show the array to see the suitable sites\n",
    "with rasterio.open(r'C:\\Users\\arom\\Documents\\School\\Grad School\\Fall 2020\\Automation\\week6\\Lab4\\suitable_sites.tif') as dataset2:\n",
    "    test_array = dataset2.read(1)\n",
    "    \n",
    "show(test_array)"
   ]
  },
  {
   "cell_type": "code",
   "execution_count": 110,
   "metadata": {},
   "outputs": [],
   "source": [
    "#create a list of coordinates for the transmission stations\n",
    "xs = []\n",
    "ys = []\n",
    "with open(r'C:\\Users\\arom\\Documents\\School\\Grad School\\Fall 2020\\Automation\\week6\\Lab4\\data\\data\\transmission_stations.txt') as coords:\n",
    "    lines = coords.readlines()[1:]\n",
    "    for l in lines:\n",
    "        x,y = l.split(',')\n",
    "        xs.append(float(x))\n",
    "        ys.append(float(y))\n",
    "    stations = np.vstack([xs, ys])\n",
    "    stations = stations.T\n",
    "    \n",
    "#find centroids of suitable sites\n",
    "with rasterio.open(r'C:\\Users\\arom\\Documents\\School\\Grad School\\Fall 2020\\Automation\\week6\\Lab4\\suitable_sites.tif') as file:\n",
    "    \n",
    "    bounds = file.bounds\n",
    "    topLeft = (bounds[0], bounds[3])\n",
    "    lowRight = (bounds[2], bounds[1])\n",
    "    cellSize = 1000\n",
    "\n",
    "    x_coords = np.arange(topLeft[0] + cellSize/2, lowRight[0], cellSize) \n",
    "    y_coords = np.arange(lowRight[1] + cellSize/2, topLeft[1], cellSize) \n",
    "    \n",
    "    x, y = np.meshgrid(x_coords, y_coords)\n",
    "    cent_coords = np.c_[x.flatten(), y.flatten()]\n",
    "\n",
    "#multiply total centroids by the final boolean in part 1 to get the final list of centroids\n",
    "suitable_cent_coords = []\n",
    "for sx, sy in zip(cent_coords, final_array.flatten()):\n",
    "        sxcoord = np.multiply(sx[0], sy)\n",
    "        sycoord = np.multiply(sx[1], sy)\n",
    "        if sxcoord != 0 and sycoord != 0:\n",
    "            suitable_cent_coords.append([sxcoord, sycoord])    "
   ]
  },
  {
   "cell_type": "code",
   "execution_count": 111,
   "metadata": {},
   "outputs": [
    {
     "name": "stdout",
     "output_type": "stream",
     "text": [
      "The shortest distance is: 4.124829386843891 kilometers, and the maximum distance is: 150.51185187753342 kilometers\n"
     ]
    }
   ],
   "source": [
    "#run nearest neighbor, convert from meters to kilometers, print result\n",
    "dist, i = cKDTree(stations).query(suitable_cent_coords)\n",
    "print('The shortest distance is:',np.min(dist)/1000,'kilometers, and the maximum distance is:',np.max(dist)/1000,'kilometers')"
   ]
  },
  {
   "cell_type": "code",
   "execution_count": null,
   "metadata": {},
   "outputs": [],
   "source": []
  }
 ],
 "metadata": {
  "kernelspec": {
   "display_name": "Python 3",
   "language": "python",
   "name": "python3"
  },
  "language_info": {
   "codemirror_mode": {
    "name": "ipython",
    "version": 3
   },
   "file_extension": ".py",
   "mimetype": "text/x-python",
   "name": "python",
   "nbconvert_exporter": "python",
   "pygments_lexer": "ipython3",
   "version": "3.7.8"
  }
 },
 "nbformat": 4,
 "nbformat_minor": 4
}
